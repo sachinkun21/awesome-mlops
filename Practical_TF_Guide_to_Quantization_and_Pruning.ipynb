{
  "nbformat": 4,
  "nbformat_minor": 0,
  "metadata": {
    "colab": {
      "name": "Practical TF Guide to Quantization_and_Pruning.ipynb",
      "provenance": [],
      "collapsed_sections": [
        "GS5gXwABm7XP",
        "AxnjOqLpYawi",
        "Czvt9P1EYnQT",
        "Ak8rBX-qX_KM",
        "N6ilHiSGYCFL"
      ],
      "include_colab_link": true
    },
    "kernelspec": {
      "name": "python3",
      "display_name": "Python 3"
    },
    "language_info": {
      "name": "python"
    },
    "accelerator": "GPU"
  },
  "cells": [
    {
      "cell_type": "markdown",
      "metadata": {
        "id": "view-in-github",
        "colab_type": "text"
      },
      "source": [
        "<a href=\"https://colab.research.google.com/github/sachinkun21/awesome-mlops/blob/master/Practical_TF_Guide_to_Quantization_and_Pruning.ipynb\" target=\"_parent\"><img src=\"https://colab.research.google.com/assets/colab-badge.svg\" alt=\"Open In Colab\"/></a>"
      ]
    },
    {
      "cell_type": "markdown",
      "metadata": {
        "id": "D3-cg2_rYfe6"
      },
      "source": [
        "# Quantization and Pruning\n",
        "\n",
        "In this notebook we will get some hands-on practice with the mobile optimization techniques discussed in the lectures. These enable reduced model size and latency which makes it ideal for edge and IOT devices. You will start by training a Keras model then compare its model size and accuracy after going through these techniques:\n",
        "\n",
        "* post-training quantization\n",
        "* quantization aware training\n",
        "* weight pruning\n",
        "\n",
        "Let's begin!"
      ]
    },
    {
      "cell_type": "markdown",
      "metadata": {
        "id": "0gRaAOIsba55"
      },
      "source": [
        "## Imports"
      ]
    },
    {
      "cell_type": "markdown",
      "metadata": {
        "id": "4nVRm10UNHZ9"
      },
      "source": [
        "Let's first import a few common libraries that you'll be using throughout the notebook."
      ]
    },
    {
      "cell_type": "code",
      "metadata": {
        "id": "9sL5kmRZbZxX"
      },
      "source": [
        "import tensorflow as tf\n",
        "import numpy as np\n",
        "import os\n",
        "import tempfile\n",
        "import zipfile"
      ],
      "execution_count": 1,
      "outputs": []
    },
    {
      "cell_type": "markdown",
      "metadata": {
        "id": "GS5gXwABm7XP"
      },
      "source": [
        "<a name='utilities'>\n",
        "\n",
        "## Utilities and constants\n",
        "\n",
        "Let's first define a few string constants and utility functions to make our code easier to maintain."
      ]
    },
    {
      "cell_type": "code",
      "metadata": {
        "id": "nEuiXyPZMKQm"
      },
      "source": [
        "# GLOBAL VARIABLES\n",
        "\n",
        "# String constants for model filenames\n",
        "FILE_WEIGHTS = 'baseline_weights.h5'\n",
        "FILE_NON_QUANTIZED_H5 = 'non_quantized.h5'\n",
        "FILE_NON_QUANTIZED_TFLITE = 'non_quantized.tflite'\n",
        "FILE_PT_QUANTIZED = 'post_training_quantized.tflite'\n",
        "FILE_QAT_QUANTIZED = 'quant_aware_quantized.tflite'\n",
        "FILE_PRUNED_MODEL_H5 = 'pruned_model.h5'\n",
        "FILE_PRUNED_QUANTIZED_TFLITE = 'pruned_quantized.tflite'\n",
        "FILE_PRUNED_NON_QUANTIZED_TFLITE = 'pruned_non_quantized.tflite'\n",
        "\n",
        "# Dictionaries to hold measurements\n",
        "MODEL_SIZE = {}\n",
        "ACCURACY = {}"
      ],
      "execution_count": 2,
      "outputs": []
    },
    {
      "cell_type": "code",
      "metadata": {
        "id": "pqdSGWccdk8G"
      },
      "source": [
        "# UTILITY FUNCTIONS\n",
        "\n",
        "def print_metric(metric_dict, metric_name):\n",
        "  '''Prints key and values stored in a dictionary'''\n",
        "  for metric, value in metric_dict.items():\n",
        "    print(f'{metric_name} for {metric}: {value}')\n",
        "\n",
        "\n",
        "def model_builder():\n",
        "  '''Returns a shallow CNN for training on the MNIST dataset'''\n",
        "\n",
        "  keras = tf.keras\n",
        "\n",
        "  # Define the model architecture.\n",
        "  model = keras.Sequential([\n",
        "    keras.layers.InputLayer(input_shape=(28, 28)),\n",
        "    keras.layers.Reshape(target_shape=(28, 28, 1)),\n",
        "    keras.layers.Conv2D(filters=12, kernel_size=(3, 3), activation='relu'),\n",
        "    keras.layers.MaxPooling2D(pool_size=(2, 2)),\n",
        "    keras.layers.Flatten(),\n",
        "    keras.layers.Dense(10, activation='softmax')\n",
        "  ])\n",
        "\n",
        "  return model\n",
        "\n",
        "\n",
        "def evaluate_tflite_model(filename, x_test, y_test):\n",
        "  '''\n",
        "  Measures the accuracy of a given TF Lite model and test set\n",
        "  \n",
        "  Args:\n",
        "    filename (string) - filename of the model to load\n",
        "    x_test (numpy array) - test images\n",
        "    y_test (numpy array) - test labels\n",
        "\n",
        "  Returns\n",
        "    float showing the accuracy against the test set\n",
        "  '''\n",
        "\n",
        "  # Initialize the TF Lite Interpreter and allocate tensors\n",
        "  interpreter = tf.lite.Interpreter(model_path=filename)\n",
        "  interpreter.allocate_tensors()\n",
        "\n",
        "  # Get input and output index\n",
        "  input_index = interpreter.get_input_details()[0][\"index\"]\n",
        "  output_index = interpreter.get_output_details()[0][\"index\"]\n",
        "\n",
        "  # Initialize empty predictions list\n",
        "  prediction_digits = []\n",
        "  \n",
        "  # Run predictions on every image in the \"test\" dataset.\n",
        "  for i, test_image in enumerate(x_test):\n",
        "    # Pre-processing: add batch dimension and convert to float32 to match with\n",
        "    # the model's input data format.\n",
        "    test_image = np.expand_dims(test_image, axis=0).astype(np.float32)\n",
        "    interpreter.set_tensor(input_index, test_image)\n",
        "\n",
        "    # Run inference.\n",
        "    interpreter.invoke()\n",
        "\n",
        "    # Post-processing: remove batch dimension and find the digit with highest\n",
        "    # probability.\n",
        "    output = interpreter.tensor(output_index)\n",
        "    digit = np.argmax(output()[0])\n",
        "    prediction_digits.append(digit)\n",
        "\n",
        "  # Compare prediction results with ground truth labels to calculate accuracy.\n",
        "  prediction_digits = np.array(prediction_digits)\n",
        "  accuracy = (prediction_digits == y_test).mean()\n",
        "  \n",
        "  return accuracy\n",
        "\n",
        "\n",
        "def get_gzipped_model_size(file):\n",
        "  '''Returns size of gzipped model, in bytes.'''\n",
        "  _, zipped_file = tempfile.mkstemp('.zip')\n",
        "  with zipfile.ZipFile(zipped_file, 'w', compression=zipfile.ZIP_DEFLATED) as f:\n",
        "    f.write(file)\n",
        "\n",
        "  return os.path.getsize(zipped_file)"
      ],
      "execution_count": 3,
      "outputs": []
    },
    {
      "cell_type": "markdown",
      "metadata": {
        "id": "AxnjOqLpYawi"
      },
      "source": [
        "## Download and Prepare the Dataset"
      ]
    },
    {
      "cell_type": "markdown",
      "metadata": {
        "id": "rfC0D71tnVKr"
      },
      "source": [
        "You will be using the [MNIST](https://keras.io/api/datasets/mnist/) dataset which is hosted in [Keras Datasets](https://keras.io/api/datasets/). Some of the helper files in this notebook are made to work with this dataset so if you decide to switch to a different dataset, make sure to check if those helper functions need to be modified (e.g. shape of the Flatten layer in your model)."
      ]
    },
    {
      "cell_type": "code",
      "metadata": {
        "id": "Z5f5Y08r0sob"
      },
      "source": [
        "# Load MNIST dataset\n",
        "mnist = tf.keras.datasets.mnist\n",
        "(train_images, train_labels), (test_images, test_labels) = mnist.load_data()\n",
        "\n",
        "# Normalize the input image so that each pixel value is between 0 to 1.\n",
        "train_images = train_images / 255.0\n",
        "test_images = test_images / 255.0"
      ],
      "execution_count": 4,
      "outputs": []
    },
    {
      "cell_type": "markdown",
      "metadata": {
        "id": "Czvt9P1EYnQT"
      },
      "source": [
        "## Baseline Model\n",
        "\n",
        "You will first build and train a Keras model. This will be the baseline where you will be comparing the mobile optimized versions later on. This will just be a shallow CNN with a softmax output to classify a given MNIST digit. You can review the `model_builder()` function in the utilities at the top of this notebook but we also printed the model summary below to show the architecture. \n",
        "\n",
        "You will also save the weights so you can reinitialize the other models later the same way. This is not needed in real projects but for this demo notebook, it would be good to have the same initial state later so you can compare the effects of the optimizations."
      ]
    },
    {
      "cell_type": "code",
      "metadata": {
        "id": "3Ild5juYXu4j",
        "colab": {
          "base_uri": "https://localhost:8080/"
        },
        "outputId": "70d91e7a-341d-4280-f461-0ba20e7b15fc"
      },
      "source": [
        "# Create the baseline model\n",
        "baseline_model = model_builder()\n",
        "\n",
        "# Save the initial weights for use later\n",
        "baseline_model.save_weights(FILE_WEIGHTS)\n",
        "\n",
        "# Print the model summary\n",
        "baseline_model.summary()"
      ],
      "execution_count": 5,
      "outputs": [
        {
          "output_type": "stream",
          "name": "stdout",
          "text": [
            "Model: \"sequential\"\n",
            "_________________________________________________________________\n",
            " Layer (type)                Output Shape              Param #   \n",
            "=================================================================\n",
            " reshape (Reshape)           (None, 28, 28, 1)         0         \n",
            "                                                                 \n",
            " conv2d (Conv2D)             (None, 26, 26, 12)        120       \n",
            "                                                                 \n",
            " max_pooling2d (MaxPooling2D  (None, 13, 13, 12)       0         \n",
            " )                                                               \n",
            "                                                                 \n",
            " flatten (Flatten)           (None, 2028)              0         \n",
            "                                                                 \n",
            " dense (Dense)               (None, 10)                20290     \n",
            "                                                                 \n",
            "=================================================================\n",
            "Total params: 20,410\n",
            "Trainable params: 20,410\n",
            "Non-trainable params: 0\n",
            "_________________________________________________________________\n"
          ]
        }
      ]
    },
    {
      "cell_type": "markdown",
      "metadata": {
        "id": "74y6LJMVYRCL"
      },
      "source": [
        "You can then compile and train the model. In practice, it's best to shuffle the train set but for this demo, it is set to `False` for reproducibility of the results. One epoch below will reach around 91% accuracy."
      ]
    },
    {
      "cell_type": "code",
      "metadata": {
        "id": "xViB61FuY0Pf",
        "colab": {
          "base_uri": "https://localhost:8080/"
        },
        "outputId": "50cf165a-af9d-4745-9b15-52f06834f4ae"
      },
      "source": [
        "# Setup the model for training\n",
        "baseline_model.compile(optimizer='adam',\n",
        "              loss='sparse_categorical_crossentropy',\n",
        "              metrics=['accuracy'])\n",
        "\n",
        "# Train the model\n",
        "baseline_model.fit(train_images, train_labels, epochs=1, shuffle=False)"
      ],
      "execution_count": 6,
      "outputs": [
        {
          "output_type": "stream",
          "name": "stdout",
          "text": [
            "1875/1875 [==============================] - 13s 5ms/step - loss: 0.2997 - accuracy: 0.9156\n"
          ]
        },
        {
          "output_type": "execute_result",
          "data": {
            "text/plain": [
              "<keras.callbacks.History at 0x7fd910493a10>"
            ]
          },
          "metadata": {},
          "execution_count": 6
        }
      ]
    },
    {
      "cell_type": "markdown",
      "metadata": {
        "id": "47BgpWwOaR8b"
      },
      "source": [
        "Let's save the accuracy of the model against the test set so you can compare later."
      ]
    },
    {
      "cell_type": "code",
      "metadata": {
        "id": "JQSVh1_t4Z2h",
        "colab": {
          "base_uri": "https://localhost:8080/"
        },
        "outputId": "67e596e9-937f-4d4e-d216-702ce0243cd4"
      },
      "source": [
        "# Get the baseline accuracy\n",
        "_, ACCURACY['baseline Keras model'] = baseline_model.evaluate(test_images, test_labels)"
      ],
      "execution_count": 7,
      "outputs": [
        {
          "output_type": "stream",
          "name": "stdout",
          "text": [
            "313/313 [==============================] - 1s 3ms/step - loss: 0.1737 - accuracy: 0.9470\n"
          ]
        }
      ]
    },
    {
      "cell_type": "markdown",
      "metadata": {
        "id": "aAfbP3uua6bE"
      },
      "source": [
        "Next, you will save the Keras model as a file and record its size as well."
      ]
    },
    {
      "cell_type": "code",
      "metadata": {
        "id": "_A8WPjzqLbH3",
        "colab": {
          "base_uri": "https://localhost:8080/"
        },
        "outputId": "9dbc59b8-383c-4121-9c1a-cf664e41e9f7"
      },
      "source": [
        "# Save the Keras model\n",
        "baseline_model.save(FILE_NON_QUANTIZED_H5, include_optimizer=False)\n",
        "\n",
        "# Save and get the model size\n",
        "MODEL_SIZE['baseline h5'] = os.path.getsize(FILE_NON_QUANTIZED_H5)\n",
        "\n",
        "# Print records so far\n",
        "print_metric(ACCURACY, \"test accuracy\")\n",
        "print_metric(MODEL_SIZE, \"model size in bytes\")"
      ],
      "execution_count": 8,
      "outputs": [
        {
          "output_type": "stream",
          "name": "stdout",
          "text": [
            "test accuracy for baseline Keras model: 0.9470000267028809\n",
            "model size in bytes for baseline h5: 99144\n"
          ]
        }
      ]
    },
    {
      "cell_type": "markdown",
      "metadata": {
        "id": "Ak8rBX-qX_KM"
      },
      "source": [
        "### Convert the model to TF Lite format"
      ]
    },
    {
      "cell_type": "markdown",
      "metadata": {
        "id": "PpkXpDy_OCzB"
      },
      "source": [
        "Next, you will convert the model to [Tensorflow Lite (TF Lite)](https://www.tensorflow.org/lite/guide) format. This is designed to make Tensorflow models more efficient and lightweight when running on mobile, embedded, and IOT devices. \n",
        "\n",
        "You can convert a Keras model with TF Lite's [Converter](https://www.tensorflow.org/lite/convert/index) class and we've incorporated it in the short helper function below. Notice that there is a `quantize` flag which you can use to quantize the model."
      ]
    },
    {
      "cell_type": "code",
      "metadata": {
        "id": "zQYM0A0SgCNS"
      },
      "source": [
        "def convert_tflite(model, filename, quantize=False):\n",
        "  '''\n",
        "  Converts the model to TF Lite format and writes to a file\n",
        "\n",
        "  Args:\n",
        "    model (Keras model) - model to convert to TF Lite\n",
        "    filename (string) - string to use when saving the file\n",
        "    quantize (bool) - flag to indicate quantization\n",
        "\n",
        "  Returns:\n",
        "    None\n",
        "  '''\n",
        "  \n",
        "  # Initialize the converter\n",
        "  converter = tf.lite.TFLiteConverter.from_keras_model(model)\n",
        "\n",
        "  # Set for quantization if flag is set to True\n",
        "  if quantize:\n",
        "    converter.optimizations = [tf.lite.Optimize.DEFAULT]\n",
        "\n",
        "  # Convert the model\n",
        "  tflite_model = converter.convert()\n",
        "\n",
        "  # Save the model.\n",
        "  with open(filename, 'wb') as f:\n",
        "    f.write(tflite_model)"
      ],
      "execution_count": 9,
      "outputs": []
    },
    {
      "cell_type": "markdown",
      "metadata": {
        "id": "lQkC9plnP2pU"
      },
      "source": [
        "You will use the helper function to convert the Keras model then get its size and accuracy. Take note that this is *not yet* quantized."
      ]
    },
    {
      "cell_type": "code",
      "metadata": {
        "id": "5H61feiOZkcI",
        "colab": {
          "base_uri": "https://localhost:8080/"
        },
        "outputId": "0e195603-f27b-4658-b139-182338084d56"
      },
      "source": [
        "# Convert baseline model\n",
        "convert_tflite(baseline_model, FILE_NON_QUANTIZED_TFLITE)"
      ],
      "execution_count": 10,
      "outputs": [
        {
          "output_type": "stream",
          "name": "stdout",
          "text": [
            "INFO:tensorflow:Assets written to: /tmp/tmp333sxoux/assets\n"
          ]
        },
        {
          "output_type": "stream",
          "name": "stderr",
          "text": [
            "WARNING:absl:Buffer deduplication procedure will be skipped when flatbuffer library is not properly loaded\n"
          ]
        }
      ]
    },
    {
      "cell_type": "markdown",
      "metadata": {
        "id": "REf-EaQlQoYZ"
      },
      "source": [
        "You will notice that there is already a slight decrease in model size when converting to `.tflite` format."
      ]
    },
    {
      "cell_type": "code",
      "metadata": {
        "id": "cmlNGwbCBo8v",
        "colab": {
          "base_uri": "https://localhost:8080/"
        },
        "outputId": "12fdfcd0-35f1-4ae6-a9e9-b4e427f04c21"
      },
      "source": [
        "MODEL_SIZE['non quantized tflite'] = os.path.getsize(FILE_NON_QUANTIZED_TFLITE)\n",
        "\n",
        "print_metric(MODEL_SIZE, 'model size in bytes')"
      ],
      "execution_count": 11,
      "outputs": [
        {
          "output_type": "stream",
          "name": "stdout",
          "text": [
            "model size in bytes for baseline h5: 99144\n",
            "model size in bytes for non quantized tflite: 84728\n"
          ]
        }
      ]
    },
    {
      "cell_type": "markdown",
      "metadata": {
        "id": "Rp-ndoNSRnvX"
      },
      "source": [
        "The accuracy will also be nearly identical when converting between formats. You can setup a TF Lite model for input-output using its [Interpreter](https://www.tensorflow.org/api_docs/python/tf/lite/Interpreter) class. This is shown in the `evaluate_tflite_model()` helper function provided in the `Utilities` section earlier.\n",
        "\n",
        "*Note: If you see a `Runtime Error: There is at least 1 reference to internal data in the interpreter in the form of a numpy array or slice.` , please try re-running the cell.*"
      ]
    },
    {
      "cell_type": "code",
      "metadata": {
        "id": "OQFkh5ukiiZE"
      },
      "source": [
        "ACCURACY['non quantized tflite'] = evaluate_tflite_model(FILE_NON_QUANTIZED_TFLITE, test_images, test_labels)"
      ],
      "execution_count": 12,
      "outputs": []
    },
    {
      "cell_type": "code",
      "metadata": {
        "id": "CplCOws3jaB0",
        "colab": {
          "base_uri": "https://localhost:8080/"
        },
        "outputId": "9f8a3f00-5bc7-47ed-ae95-ffdf8852ea7a"
      },
      "source": [
        "print_metric(ACCURACY, 'test accuracy')"
      ],
      "execution_count": 13,
      "outputs": [
        {
          "output_type": "stream",
          "name": "stdout",
          "text": [
            "test accuracy for baseline Keras model: 0.9470000267028809\n",
            "test accuracy for non quantized tflite: 0.947\n"
          ]
        }
      ]
    },
    {
      "cell_type": "markdown",
      "metadata": {
        "id": "N6ilHiSGYCFL"
      },
      "source": [
        "### Post-Training Quantization\n",
        "\n",
        "Now that you have the baseline metrics, you can now observe the effects of quantization. As mentioned in the lectures, this process involves converting floating point representations into integer to reduce model size and achieve faster computation.\n",
        "\n",
        "As shown in the `convert_tflite()` helper function earlier, you can easily do [post-training quantization](https://www.tensorflow.org/lite/performance/post_training_quantization) with the TF Lite API. You just need to set the converter optimization and assign an [Optimize](https://www.tensorflow.org/api_docs/python/tf/lite/Optimize) Enum.\n",
        "\n",
        "You will set the `quantize` flag to do that and get the metrics again."
      ]
    },
    {
      "cell_type": "code",
      "metadata": {
        "id": "DdWNTJ2J1OpL",
        "colab": {
          "base_uri": "https://localhost:8080/"
        },
        "outputId": "6850f6b4-e411-4c9c-dc12-727417cfa6df"
      },
      "source": [
        "# Convert and quantize the baseline model\n",
        "convert_tflite(baseline_model, FILE_PT_QUANTIZED, quantize=True)"
      ],
      "execution_count": 14,
      "outputs": [
        {
          "output_type": "stream",
          "name": "stdout",
          "text": [
            "INFO:tensorflow:Assets written to: /tmp/tmp1p20wglp/assets\n"
          ]
        },
        {
          "output_type": "stream",
          "name": "stderr",
          "text": [
            "INFO:tensorflow:Assets written to: /tmp/tmp1p20wglp/assets\n",
            "WARNING:absl:Buffer deduplication procedure will be skipped when flatbuffer library is not properly loaded\n"
          ]
        }
      ]
    },
    {
      "cell_type": "code",
      "metadata": {
        "id": "cTFHf4Rw1bCJ",
        "colab": {
          "base_uri": "https://localhost:8080/"
        },
        "outputId": "e70ead0b-d829-476a-d61f-fe073226b7bc"
      },
      "source": [
        "# Get the model size\n",
        "MODEL_SIZE['post training quantized tflite'] = os.path.getsize(FILE_PT_QUANTIZED)\n",
        "\n",
        "print_metric(MODEL_SIZE, 'model size')"
      ],
      "execution_count": 15,
      "outputs": [
        {
          "output_type": "stream",
          "name": "stdout",
          "text": [
            "model size for baseline h5: 99144\n",
            "model size for non quantized tflite: 84728\n",
            "model size for post training quantized tflite: 24112\n"
          ]
        }
      ]
    },
    {
      "cell_type": "markdown",
      "metadata": {
        "id": "SYcBZduWVqOH"
      },
      "source": [
        "You should see around a 4X reduction in model size in the quantized version. This comes from converting the 32 bit representations (float) into 8 bits (integer).\n",
        "\n"
      ]
    },
    {
      "cell_type": "code",
      "metadata": {
        "id": "vhEYoQ83-pT_"
      },
      "source": [
        "ACCURACY['post training quantized tflite'] = evaluate_tflite_model(FILE_PT_QUANTIZED, test_images, test_labels)"
      ],
      "execution_count": 16,
      "outputs": []
    },
    {
      "cell_type": "code",
      "metadata": {
        "id": "4D0Srsjb_inn",
        "colab": {
          "base_uri": "https://localhost:8080/"
        },
        "outputId": "b799396b-4945-4f09-d383-00830945dafb"
      },
      "source": [
        "print_metric(ACCURACY, 'test accuracy')"
      ],
      "execution_count": 17,
      "outputs": [
        {
          "output_type": "stream",
          "name": "stdout",
          "text": [
            "test accuracy for baseline Keras model: 0.9470000267028809\n",
            "test accuracy for non quantized tflite: 0.947\n",
            "test accuracy for post training quantized tflite: 0.9467\n"
          ]
        }
      ]
    },
    {
      "cell_type": "markdown",
      "metadata": {
        "id": "rGTzSOuQWG4L"
      },
      "source": [
        "As mentioned in the lecture, you can expect the accuracy to not be the same when quantizing the model. Most of the time it will decrease but in some cases, it can even increase. Again, this can be attributed to the loss of precision when you remove the extra bits from the float data."
      ]
    },
    {
      "cell_type": "markdown",
      "metadata": {
        "id": "vFf1DDVnYIes"
      },
      "source": [
        "## Quantization Aware Training"
      ]
    },
    {
      "cell_type": "markdown",
      "metadata": {
        "id": "37oAb7PuXK36"
      },
      "source": [
        "When post-training quantization results in loss of accuracy that is unacceptable for your application, you can consider doing [quantization aware training](https://www.tensorflow.org/model_optimization/guide/quantization/training) before quantizing the model. This simulates the loss of precision by inserting fake quant nodes in the model during training. That way, your model will learn to adapt with the loss of precision to get more accurate predictions.\n",
        "\n",
        "The [Tensorflow Model Optimization Toolkit](https://www.tensorflow.org/model_optimization) provides a [quantize_model()](https://www.tensorflow.org/model_optimization/api_docs/python/tfmot/quantization/keras/quantize_model) method to do this quickly and you will see that below. But first, let's install the toolkit into the notebook environment."
      ]
    },
    {
      "cell_type": "code",
      "metadata": {
        "id": "6WSt6OQGoNAt",
        "colab": {
          "base_uri": "https://localhost:8080/"
        },
        "outputId": "99cb2bca-72fd-41fa-8068-2ff8f3d0aebc"
      },
      "source": [
        "# Install the toolkit\n",
        "!pip install tensorflow_model_optimization"
      ],
      "execution_count": 18,
      "outputs": [
        {
          "output_type": "stream",
          "name": "stdout",
          "text": [
            "Requirement already satisfied: tensorflow_model_optimization in /usr/local/lib/python3.7/dist-packages (0.7.2)\n",
            "Requirement already satisfied: numpy~=1.14 in /usr/local/lib/python3.7/dist-packages (from tensorflow_model_optimization) (1.21.5)\n",
            "Requirement already satisfied: dm-tree~=0.1.1 in /usr/local/lib/python3.7/dist-packages (from tensorflow_model_optimization) (0.1.6)\n",
            "Requirement already satisfied: six~=1.10 in /usr/local/lib/python3.7/dist-packages (from tensorflow_model_optimization) (1.15.0)\n"
          ]
        }
      ]
    },
    {
      "cell_type": "markdown",
      "metadata": {
        "id": "oYHmeMihYjnB"
      },
      "source": [
        "You will build the baseline model again but this time, you will pass it into the `quantize_model()` method to indicate quantization aware training.\n",
        "\n",
        "Take note that in case you decide to pass in a model that is already trained, then make sure to recompile before you continue training."
      ]
    },
    {
      "cell_type": "code",
      "metadata": {
        "id": "3dGSpz0on2C4",
        "colab": {
          "base_uri": "https://localhost:8080/"
        },
        "outputId": "c242b1c0-5985-4fd3-f252-c2e1668fd99c"
      },
      "source": [
        "import tensorflow_model_optimization as tfmot\n",
        "\n",
        "# method to quantize a Keras model\n",
        "quantize_model = tfmot.quantization.keras.quantize_model\n",
        "\n",
        "# Define the model architecture.\n",
        "model_to_quantize = model_builder()\n",
        "\n",
        "# Reinitialize weights with saved file\n",
        "model_to_quantize.load_weights(FILE_WEIGHTS)\n",
        "\n",
        "# Quantize the model\n",
        "q_aware_model = quantize_model(model_to_quantize)\n",
        "\n",
        "# `quantize_model` requires a recompile.\n",
        "q_aware_model.compile(optimizer='adam',\n",
        "              loss='sparse_categorical_crossentropy',\n",
        "              metrics=['accuracy'])\n",
        "\n",
        "q_aware_model.summary()"
      ],
      "execution_count": 19,
      "outputs": [
        {
          "output_type": "stream",
          "name": "stdout",
          "text": [
            "Model: \"sequential_1\"\n",
            "_________________________________________________________________\n",
            " Layer (type)                Output Shape              Param #   \n",
            "=================================================================\n",
            " quantize_layer (QuantizeLay  (None, 28, 28)           3         \n",
            " er)                                                             \n",
            "                                                                 \n",
            " quant_reshape_1 (QuantizeWr  (None, 28, 28, 1)        1         \n",
            " apperV2)                                                        \n",
            "                                                                 \n",
            " quant_conv2d_1 (QuantizeWra  (None, 26, 26, 12)       147       \n",
            " pperV2)                                                         \n",
            "                                                                 \n",
            " quant_max_pooling2d_1 (Quan  (None, 13, 13, 12)       1         \n",
            " tizeWrapperV2)                                                  \n",
            "                                                                 \n",
            " quant_flatten_1 (QuantizeWr  (None, 2028)             1         \n",
            " apperV2)                                                        \n",
            "                                                                 \n",
            " quant_dense_1 (QuantizeWrap  (None, 10)               20295     \n",
            " perV2)                                                          \n",
            "                                                                 \n",
            "=================================================================\n",
            "Total params: 20,448\n",
            "Trainable params: 20,410\n",
            "Non-trainable params: 38\n",
            "_________________________________________________________________\n"
          ]
        }
      ]
    },
    {
      "cell_type": "markdown",
      "metadata": {
        "id": "lmcaLaotZ7G7"
      },
      "source": [
        "You may have noticed a slight difference in the model summary above compared to the baseline model summary in the earlier sections. The total params count increased as expected because of the nodes added by the `quantize_model()` method.\n",
        "\n",
        "With that, you can now train the model. You will notice that the accuracy is a bit lower because the model is simulating the loss of precision. The training will take a bit longer if you want to achieve the same training accuracy as the earlier run. For this exercise though, we will keep to 1 epoch."
      ]
    },
    {
      "cell_type": "code",
      "metadata": {
        "id": "yl4jbjllomDw",
        "colab": {
          "base_uri": "https://localhost:8080/"
        },
        "outputId": "08fd5184-93e9-45a7-afda-5e7faec9635d"
      },
      "source": [
        "# Train the model\n",
        "q_aware_model.fit(train_images, train_labels, epochs=1, shuffle=False)"
      ],
      "execution_count": 20,
      "outputs": [
        {
          "output_type": "stream",
          "name": "stdout",
          "text": [
            "1875/1875 [==============================] - 17s 9ms/step - loss: 0.2963 - accuracy: 0.9166\n"
          ]
        },
        {
          "output_type": "execute_result",
          "data": {
            "text/plain": [
              "<keras.callbacks.History at 0x7fd897448c90>"
            ]
          },
          "metadata": {},
          "execution_count": 20
        }
      ]
    },
    {
      "cell_type": "markdown",
      "metadata": {
        "id": "b_WAM2C4bWeC"
      },
      "source": [
        "You can then get the accuracy of the Keras model before and after quantizing the model. The accuracy is expected to be nearly identical because the model is trained to counter the effects of quantization."
      ]
    },
    {
      "cell_type": "code",
      "metadata": {
        "id": "J7rOuwM_ozI_",
        "colab": {
          "base_uri": "https://localhost:8080/"
        },
        "outputId": "eb402a4e-0049-47b5-ca17-a7abf9ef53a8"
      },
      "source": [
        "# Reinitialize the dictionary\n",
        "ACCURACY = {}\n",
        "\n",
        "# Get the accuracy of the quantization aware trained model (not yet quantized)\n",
        "_, ACCURACY['quantization aware non-quantized'] = q_aware_model.evaluate(test_images, test_labels, verbose=0)\n",
        "print_metric(ACCURACY, 'test accuracy')"
      ],
      "execution_count": 21,
      "outputs": [
        {
          "output_type": "stream",
          "name": "stdout",
          "text": [
            "test accuracy for quantization aware non-quantized: 0.9484999775886536\n"
          ]
        }
      ]
    },
    {
      "cell_type": "code",
      "source": [
        ""
      ],
      "metadata": {
        "id": "CBbv6HuqGI7u"
      },
      "execution_count": 21,
      "outputs": []
    },
    {
      "cell_type": "code",
      "metadata": {
        "id": "6liE_Cp3rzAy",
        "colab": {
          "base_uri": "https://localhost:8080/"
        },
        "outputId": "ecd473ad-f8c4-429d-871d-f7d608d5e887"
      },
      "source": [
        "# Convert and quantize the model.\n",
        "convert_tflite(q_aware_model, FILE_QAT_QUANTIZED, quantize=True)\n",
        "\n",
        "# Get the accuracy of the quantized model\n",
        "ACCURACY['quantization aware quantized'] = evaluate_tflite_model(FILE_QAT_QUANTIZED, test_images, test_labels)\n",
        "\n",
        "print_metric(ACCURACY, 'test accuracy')"
      ],
      "execution_count": 22,
      "outputs": [
        {
          "output_type": "stream",
          "name": "stderr",
          "text": [
            "WARNING:absl:Found untraced functions such as reshape_1_layer_call_fn, reshape_1_layer_call_and_return_conditional_losses, conv2d_1_layer_call_fn, conv2d_1_layer_call_and_return_conditional_losses, flatten_1_layer_call_fn while saving (showing 5 of 8). These functions will not be directly callable after loading.\n"
          ]
        },
        {
          "output_type": "stream",
          "name": "stdout",
          "text": [
            "INFO:tensorflow:Assets written to: /tmp/tmp4xz9klwj/assets\n"
          ]
        },
        {
          "output_type": "stream",
          "name": "stderr",
          "text": [
            "INFO:tensorflow:Assets written to: /tmp/tmp4xz9klwj/assets\n",
            "/usr/local/lib/python3.7/dist-packages/tensorflow/lite/python/convert.py:746: UserWarning: Statistics for quantized inputs were expected, but not specified; continuing anyway.\n",
            "  warnings.warn(\"Statistics for quantized inputs were expected, but not \"\n",
            "WARNING:absl:Buffer deduplication procedure will be skipped when flatbuffer library is not properly loaded\n"
          ]
        },
        {
          "output_type": "stream",
          "name": "stdout",
          "text": [
            "test accuracy for quantization aware non-quantized: 0.9484999775886536\n",
            "test accuracy for quantization aware quantized: 0.9485\n"
          ]
        }
      ]
    },
    {
      "cell_type": "code",
      "source": [
        "# Get the model size\n",
        "MODEL_SIZE['QAT tflite'] = os.path.getsize(FILE_QAT_QUANTIZED)\n",
        "\n",
        "print_metric(MODEL_SIZE, 'model size')"
      ],
      "metadata": {
        "colab": {
          "base_uri": "https://localhost:8080/"
        },
        "id": "VimloWj6GNQ5",
        "outputId": "90608b44-fea4-47e0-9941-fbd05d1ec476"
      },
      "execution_count": 23,
      "outputs": [
        {
          "output_type": "stream",
          "name": "stdout",
          "text": [
            "model size for baseline h5: 99144\n",
            "model size for non quantized tflite: 84728\n",
            "model size for post training quantized tflite: 24112\n",
            "model size for QAT tflite: 24936\n"
          ]
        }
      ]
    },
    {
      "cell_type": "markdown",
      "metadata": {
        "id": "SwvaMflTYNgo"
      },
      "source": [
        "## Pruning\n",
        "\n",
        "Let's now move on to another technique for reducing model size: [Pruning](https://www.tensorflow.org/model_optimization/guide/pruning/pruning_with_keras). This process involves zeroing out insignificant (i.e. low magnitude) weights. The intuition is these weights do not contribute as much to making predictions so you can remove them and get the same result. Making the weights sparse helps in compressing the model more efficiently and you will see that in this section."
      ]
    },
    {
      "cell_type": "markdown",
      "metadata": {
        "id": "LdlFujrJbzV7"
      },
      "source": [
        "The Tensorflow Model Optimization Toolkit again has a convenience method for this. The [prune_low_magnitude()](https://www.tensorflow.org/model_optimization/api_docs/python/tfmot/sparsity/keras/prune_low_magnitude) method puts wrappers in a Keras model so it can be pruned during training. You will pass in the baseline model that you already trained earlier. You will notice that the model summary show increased params because of the wrapper layers added by the pruning method.\n",
        "\n",
        "You can set how the pruning is done during training. Below, you will use [PolynomialDecay](https://www.tensorflow.org/model_optimization/api_docs/python/tfmot/sparsity/keras/PolynomialDecay) to indicate how the sparsity ramps up with each step. Another option available in the library is [Constant Sparsity](https://www.tensorflow.org/model_optimization/api_docs/python/tfmot/sparsity/keras/ConstantSparsity)."
      ]
    },
    {
      "cell_type": "code",
      "metadata": {
        "id": "TpqizJsKYPBA",
        "colab": {
          "base_uri": "https://localhost:8080/"
        },
        "outputId": "55a87265-b163-4a59-d059-5de39d45235d"
      },
      "source": [
        "# Get the pruning method\n",
        "prune_low_magnitude = tfmot.sparsity.keras.prune_low_magnitude\n",
        "\n",
        "# Compute end step to finish pruning after 2 epochs.\n",
        "batch_size = 128\n",
        "epochs = 2\n",
        "validation_split = 0.1 # 10% of training set will be used for validation set. \n",
        "\n",
        "num_images = train_images.shape[0] * (1 - validation_split)\n",
        "end_step = np.ceil(num_images / batch_size).astype(np.int32) * epochs\n",
        "\n",
        "# Define pruning schedule.\n",
        "pruning_params = {\n",
        "      'pruning_schedule': tfmot.sparsity.keras.PolynomialDecay(initial_sparsity=0.50,\n",
        "                                                               final_sparsity=0.80,\n",
        "                                                               begin_step=0,\n",
        "                                                               end_step=end_step)\n",
        "}\n",
        "\n",
        "# Pass in the trained baseline model\n",
        "model_for_pruning = prune_low_magnitude(baseline_model, **pruning_params)\n",
        "\n",
        "# `prune_low_magnitude` requires a recompile.\n",
        "model_for_pruning.compile(optimizer='adam',\n",
        "              loss='sparse_categorical_crossentropy',\n",
        "              metrics=['accuracy'])\n",
        "\n",
        "model_for_pruning.summary()"
      ],
      "execution_count": 24,
      "outputs": [
        {
          "output_type": "stream",
          "name": "stderr",
          "text": [
            "/usr/local/lib/python3.7/dist-packages/tensorflow_model_optimization/python/core/sparsity/keras/pruning_wrapper.py:238: UserWarning: `layer.add_variable` is deprecated and will be removed in a future version. Please use `layer.add_weight` method instead.\n",
            "  trainable=False)\n"
          ]
        },
        {
          "output_type": "stream",
          "name": "stdout",
          "text": [
            "Model: \"sequential\"\n",
            "_________________________________________________________________\n",
            " Layer (type)                Output Shape              Param #   \n",
            "=================================================================\n",
            " prune_low_magnitude_reshape  (None, 28, 28, 1)        1         \n",
            "  (PruneLowMagnitude)                                            \n",
            "                                                                 \n",
            " prune_low_magnitude_conv2d   (None, 26, 26, 12)       230       \n",
            " (PruneLowMagnitude)                                             \n",
            "                                                                 \n",
            " prune_low_magnitude_max_poo  (None, 13, 13, 12)       1         \n",
            " ling2d (PruneLowMagnitude)                                      \n",
            "                                                                 \n",
            " prune_low_magnitude_flatten  (None, 2028)             1         \n",
            "  (PruneLowMagnitude)                                            \n",
            "                                                                 \n",
            " prune_low_magnitude_dense (  (None, 10)               40572     \n",
            " PruneLowMagnitude)                                              \n",
            "                                                                 \n",
            "=================================================================\n",
            "Total params: 40,805\n",
            "Trainable params: 20,410\n",
            "Non-trainable params: 20,395\n",
            "_________________________________________________________________\n"
          ]
        },
        {
          "output_type": "stream",
          "name": "stderr",
          "text": [
            "/usr/local/lib/python3.7/dist-packages/tensorflow_model_optimization/python/core/sparsity/keras/pruning_wrapper.py:218: UserWarning: `layer.add_variable` is deprecated and will be removed in a future version. Please use `layer.add_weight` method instead.\n",
            "  aggregation=tf.VariableAggregation.MEAN)\n",
            "/usr/local/lib/python3.7/dist-packages/tensorflow_model_optimization/python/core/sparsity/keras/pruning_wrapper.py:225: UserWarning: `layer.add_variable` is deprecated and will be removed in a future version. Please use `layer.add_weight` method instead.\n",
            "  aggregation=tf.VariableAggregation.MEAN)\n"
          ]
        }
      ]
    },
    {
      "cell_type": "markdown",
      "metadata": {
        "id": "qgmHaZI6fip_"
      },
      "source": [
        "You can also peek at the weights of one of the layers in your model. After pruning, you will notice that many of these will be zeroed out."
      ]
    },
    {
      "cell_type": "code",
      "metadata": {
        "id": "y5ekdEBigB5l",
        "colab": {
          "base_uri": "https://localhost:8080/"
        },
        "outputId": "adc16aae-bc26-46b6-9011-60363226901d"
      },
      "source": [
        "# Preview model weights\n",
        "model_for_pruning.weights[1]"
      ],
      "execution_count": 25,
      "outputs": [
        {
          "output_type": "execute_result",
          "data": {
            "text/plain": [
              "<tf.Variable 'conv2d/kernel:0' shape=(3, 3, 1, 12) dtype=float32, numpy=\n",
              "array([[[[ 0.07598949,  0.15277074,  0.44080797, -0.05242107,\n",
              "           0.4715951 , -0.0125073 ,  0.28247777,  0.20194073,\n",
              "          -0.46915504, -0.46017557,  0.26363212,  0.2030452 ]],\n",
              "\n",
              "        [[ 0.22536851,  0.28626534, -0.24769951, -0.08262714,\n",
              "          -0.21844074,  0.13595991,  0.3013879 ,  0.3162311 ,\n",
              "           0.08599006, -0.26516056,  0.03706466,  0.62672883]],\n",
              "\n",
              "        [[-0.08453324,  0.29196241, -0.48451522,  0.17786719,\n",
              "          -0.48763886,  0.01999244,  0.1916453 , -0.16827472,\n",
              "           0.17471516,  0.34628356,  0.2534189 ,  0.62505364]]],\n",
              "\n",
              "\n",
              "       [[[-0.02016552, -0.38336328,  0.45470196,  0.32671508,\n",
              "           0.5270922 ,  0.14836293,  0.10779105,  0.07435766,\n",
              "          -0.42610106, -0.1563051 ,  0.24449627, -0.21619987]],\n",
              "\n",
              "        [[ 0.35061368,  0.13726935, -0.19848573,  0.28664225,\n",
              "          -0.09156544,  0.35626003,  0.23265623,  0.297033  ,\n",
              "           0.12965362,  0.25416622,  0.05744743,  0.13946417]],\n",
              "\n",
              "        [[-0.21468405,  0.30394897, -0.07182396,  0.04026135,\n",
              "          -0.3809405 ,  0.14461944,  0.28015622, -0.03379139,\n",
              "           0.21969749,  0.0502057 ,  0.2681905 ,  0.12622766]]],\n",
              "\n",
              "\n",
              "       [[[ 0.25763083, -0.6524075 ,  0.21165542, -0.19226044,\n",
              "           0.42465937,  0.15489961, -0.12908809,  0.06131025,\n",
              "          -0.01502799,  0.07733224, -0.04223701, -0.7677336 ]],\n",
              "\n",
              "        [[-0.15121174,  0.02233717,  0.01490074,  0.28165296,\n",
              "          -0.01540175,  0.08164729,  0.25817484,  0.04760056,\n",
              "           0.14841406,  0.23484896, -0.3033951 , -0.8572859 ]],\n",
              "\n",
              "        [[ 0.1471626 ,  0.07422689, -0.25456575, -0.04949907,\n",
              "          -0.32926175, -0.15491162,  0.25319976,  0.08006806,\n",
              "           0.31104127,  0.10116454, -0.18673068, -0.7401181 ]]]],\n",
              "      dtype=float32)>"
            ]
          },
          "metadata": {},
          "execution_count": 25
        }
      ]
    },
    {
      "cell_type": "markdown",
      "metadata": {
        "id": "0XFwMRqpgbr0"
      },
      "source": [
        "With that, you can now start re-training the model. Take note that the [UpdatePruningStep()](https://www.tensorflow.org/model_optimization/api_docs/python/tfmot/sparsity/keras/UpdatePruningStep) callback is required."
      ]
    },
    {
      "cell_type": "code",
      "metadata": {
        "id": "DUCz6PL371Bx",
        "colab": {
          "base_uri": "https://localhost:8080/"
        },
        "outputId": "1c77be30-6019-4c6a-f4a4-1c26174d2763"
      },
      "source": [
        "# Callback to update pruning wrappers at each step\n",
        "callbacks = [\n",
        "  tfmot.sparsity.keras.UpdatePruningStep(),\n",
        "]\n",
        "\n",
        "# Train and prune the model\n",
        "model_for_pruning.fit(train_images, train_labels,\n",
        "                  epochs=epochs, validation_split=validation_split,\n",
        "                  callbacks=callbacks)"
      ],
      "execution_count": 26,
      "outputs": [
        {
          "output_type": "stream",
          "name": "stdout",
          "text": [
            "Epoch 1/2\n",
            "1688/1688 [==============================] - 14s 7ms/step - loss: 0.1690 - accuracy: 0.9538 - val_loss: 0.1124 - val_accuracy: 0.9682\n",
            "Epoch 2/2\n",
            "1688/1688 [==============================] - 11s 6ms/step - loss: 0.1290 - accuracy: 0.9624 - val_loss: 0.1038 - val_accuracy: 0.9718\n"
          ]
        },
        {
          "output_type": "execute_result",
          "data": {
            "text/plain": [
              "<keras.callbacks.History at 0x7fd9101bfed0>"
            ]
          },
          "metadata": {},
          "execution_count": 26
        }
      ]
    },
    {
      "cell_type": "markdown",
      "metadata": {
        "id": "rEExgy4hhXP-"
      },
      "source": [
        "Now see how the weights in the same layer looks like after pruning."
      ]
    },
    {
      "cell_type": "code",
      "metadata": {
        "id": "TOK4TidJhXpT",
        "colab": {
          "base_uri": "https://localhost:8080/"
        },
        "outputId": "bb87ee0b-7f1a-4159-fe91-ba2cec0ccc11"
      },
      "source": [
        "# Preview model weights\n",
        "model_for_pruning.weights[1]"
      ],
      "execution_count": 27,
      "outputs": [
        {
          "output_type": "execute_result",
          "data": {
            "text/plain": [
              "<tf.Variable 'conv2d/kernel:0' shape=(3, 3, 1, 12) dtype=float32, numpy=\n",
              "array([[[[ 0.        ,  0.        ,  0.56952494,  0.        ,\n",
              "           0.70934784,  0.        ,  0.        ,  0.        ,\n",
              "          -0.96810305,  0.        ,  0.8677923 , -0.        ]],\n",
              "\n",
              "        [[ 0.        ,  0.        , -0.        ,  0.        ,\n",
              "          -0.        ,  0.        ,  0.        ,  0.76968944,\n",
              "           0.        ,  0.        ,  0.        ,  0.9902615 ]],\n",
              "\n",
              "        [[ 0.        ,  0.        , -1.0307726 ,  0.        ,\n",
              "          -0.95460075,  0.        ,  0.        ,  0.        ,\n",
              "          -0.        ,  0.66110253,  0.        ,  1.0790347 ]]],\n",
              "\n",
              "\n",
              "       [[[ 0.        , -0.        ,  0.6443694 ,  0.7764496 ,\n",
              "           0.8462491 ,  0.        ,  0.        ,  0.        ,\n",
              "           0.        ,  0.        ,  0.        , -0.        ]],\n",
              "\n",
              "        [[ 0.82940316,  0.        , -0.        ,  0.        ,\n",
              "          -0.        ,  0.88678116,  0.        , -0.        ,\n",
              "           0.        ,  0.        ,  0.        , -0.        ]],\n",
              "\n",
              "        [[ 0.        ,  1.0286678 , -0.        ,  0.        ,\n",
              "          -0.8500117 ,  0.        ,  0.        , -0.        ,\n",
              "           0.        ,  0.        ,  0.        , -0.        ]]],\n",
              "\n",
              "\n",
              "       [[[ 0.        , -1.0606636 , -0.        ,  0.        ,\n",
              "          -0.        ,  0.        ,  0.        ,  0.        ,\n",
              "           0.        ,  0.        ,  0.        , -1.2984407 ]],\n",
              "\n",
              "        [[ 0.        ,  0.        , -0.        ,  0.        ,\n",
              "          -0.        ,  0.        ,  0.        , -0.        ,\n",
              "           0.        ,  0.        ,  0.        , -1.2206221 ]],\n",
              "\n",
              "        [[ 0.        ,  0.        , -0.        ,  0.        ,\n",
              "          -0.        ,  0.        ,  0.        , -0.        ,\n",
              "           0.84852904, -0.        ,  0.        , -1.1073948 ]]]],\n",
              "      dtype=float32)>"
            ]
          },
          "metadata": {},
          "execution_count": 27
        }
      ]
    },
    {
      "cell_type": "markdown",
      "metadata": {
        "id": "o5ckfDHLhhub"
      },
      "source": [
        "After pruning, you can remove the wrapper layers to have the same layers and params as the baseline model. You can do that with the [strip_pruning()](https://www.tensorflow.org/model_optimization/api_docs/python/tfmot/sparsity/keras/strip_pruning) method as shown below. You will do this so you can save the model and also export to TF Lite format just like in the previous sections."
      ]
    },
    {
      "cell_type": "code",
      "metadata": {
        "id": "PbfLhZv68vwc",
        "colab": {
          "base_uri": "https://localhost:8080/"
        },
        "outputId": "7d903d1e-a2a8-4300-8a63-67269bfc2d80"
      },
      "source": [
        "# Remove pruning wrappers\n",
        "model_for_export = tfmot.sparsity.keras.strip_pruning(model_for_pruning)\n",
        "model_for_export.summary()"
      ],
      "execution_count": 28,
      "outputs": [
        {
          "output_type": "stream",
          "name": "stdout",
          "text": [
            "Model: \"sequential\"\n",
            "_________________________________________________________________\n",
            " Layer (type)                Output Shape              Param #   \n",
            "=================================================================\n",
            " reshape (Reshape)           (None, 28, 28, 1)         0         \n",
            "                                                                 \n",
            " conv2d (Conv2D)             (None, 26, 26, 12)        120       \n",
            "                                                                 \n",
            " max_pooling2d (MaxPooling2D  (None, 13, 13, 12)       0         \n",
            " )                                                               \n",
            "                                                                 \n",
            " flatten (Flatten)           (None, 2028)              0         \n",
            "                                                                 \n",
            " dense (Dense)               (None, 10)                20290     \n",
            "                                                                 \n",
            "=================================================================\n",
            "Total params: 20,410\n",
            "Trainable params: 20,410\n",
            "Non-trainable params: 0\n",
            "_________________________________________________________________\n"
          ]
        }
      ]
    },
    {
      "cell_type": "markdown",
      "metadata": {
        "id": "KtbPlo-kj9Ku"
      },
      "source": [
        "You will see the same model weights but the index is different because the wrappers were removed."
      ]
    },
    {
      "cell_type": "code",
      "metadata": {
        "id": "SG6-aF9yiraG",
        "colab": {
          "base_uri": "https://localhost:8080/"
        },
        "outputId": "ce279f29-f576-4490-f653-aadc26686986"
      },
      "source": [
        "# Preview model weights (index 1 earlier is now 0 because pruning wrappers were removed)\n",
        "model_for_export.weights[0]"
      ],
      "execution_count": 29,
      "outputs": [
        {
          "output_type": "execute_result",
          "data": {
            "text/plain": [
              "<tf.Variable 'conv2d/kernel:0' shape=(3, 3, 1, 12) dtype=float32, numpy=\n",
              "array([[[[ 0.        ,  0.        ,  0.56952494,  0.        ,\n",
              "           0.70934784,  0.        ,  0.        ,  0.        ,\n",
              "          -0.96810305,  0.        ,  0.8677923 , -0.        ]],\n",
              "\n",
              "        [[ 0.        ,  0.        , -0.        ,  0.        ,\n",
              "          -0.        ,  0.        ,  0.        ,  0.76968944,\n",
              "           0.        ,  0.        ,  0.        ,  0.9902615 ]],\n",
              "\n",
              "        [[ 0.        ,  0.        , -1.0307726 ,  0.        ,\n",
              "          -0.95460075,  0.        ,  0.        ,  0.        ,\n",
              "          -0.        ,  0.66110253,  0.        ,  1.0790347 ]]],\n",
              "\n",
              "\n",
              "       [[[ 0.        , -0.        ,  0.6443694 ,  0.7764496 ,\n",
              "           0.8462491 ,  0.        ,  0.        ,  0.        ,\n",
              "           0.        ,  0.        ,  0.        , -0.        ]],\n",
              "\n",
              "        [[ 0.82940316,  0.        , -0.        ,  0.        ,\n",
              "          -0.        ,  0.88678116,  0.        , -0.        ,\n",
              "           0.        ,  0.        ,  0.        , -0.        ]],\n",
              "\n",
              "        [[ 0.        ,  1.0286678 , -0.        ,  0.        ,\n",
              "          -0.8500117 ,  0.        ,  0.        , -0.        ,\n",
              "           0.        ,  0.        ,  0.        , -0.        ]]],\n",
              "\n",
              "\n",
              "       [[[ 0.        , -1.0606636 , -0.        ,  0.        ,\n",
              "          -0.        ,  0.        ,  0.        ,  0.        ,\n",
              "           0.        ,  0.        ,  0.        , -1.2984407 ]],\n",
              "\n",
              "        [[ 0.        ,  0.        , -0.        ,  0.        ,\n",
              "          -0.        ,  0.        ,  0.        , -0.        ,\n",
              "           0.        ,  0.        ,  0.        , -1.2206221 ]],\n",
              "\n",
              "        [[ 0.        ,  0.        , -0.        ,  0.        ,\n",
              "          -0.        ,  0.        ,  0.        , -0.        ,\n",
              "           0.84852904, -0.        ,  0.        , -1.1073948 ]]]],\n",
              "      dtype=float32)>"
            ]
          },
          "metadata": {},
          "execution_count": 29
        }
      ]
    },
    {
      "cell_type": "markdown",
      "metadata": {
        "id": "ZR94MYxLkHfn"
      },
      "source": [
        "You will notice below that the pruned model will have the same file size as the baseline_model when saved as H5. This is to be expected. The improvement will be noticeable when you compress the model as will be shown in the cell after this."
      ]
    },
    {
      "cell_type": "code",
      "metadata": {
        "id": "CjjDMqJCTjqz",
        "colab": {
          "base_uri": "https://localhost:8080/"
        },
        "outputId": "76f90715-1f89-4266-ee20-2cad4819b6cd"
      },
      "source": [
        "# Save Keras model\n",
        "model_for_export.save(FILE_PRUNED_MODEL_H5, include_optimizer=False)\n",
        "\n",
        "# Get uncompressed model size of baseline and pruned models\n",
        "MODEL_SIZE = {}\n",
        "MODEL_SIZE['baseline h5'] = os.path.getsize(FILE_NON_QUANTIZED_H5)\n",
        "MODEL_SIZE['pruned non quantized h5'] = os.path.getsize(FILE_PRUNED_MODEL_H5)\n",
        "\n",
        "print_metric(MODEL_SIZE, 'model_size in bytes')"
      ],
      "execution_count": 30,
      "outputs": [
        {
          "output_type": "stream",
          "name": "stdout",
          "text": [
            "WARNING:tensorflow:Compiled the loaded model, but the compiled metrics have yet to be built. `model.compile_metrics` will be empty until you train or evaluate the model.\n"
          ]
        },
        {
          "output_type": "stream",
          "name": "stderr",
          "text": [
            "WARNING:tensorflow:Compiled the loaded model, but the compiled metrics have yet to be built. `model.compile_metrics` will be empty until you train or evaluate the model.\n"
          ]
        },
        {
          "output_type": "stream",
          "name": "stdout",
          "text": [
            "model_size in bytes for baseline h5: 99144\n",
            "model_size in bytes for pruned non quantized h5: 99144\n"
          ]
        }
      ]
    },
    {
      "cell_type": "markdown",
      "metadata": {
        "id": "tCEfa-LRleT_"
      },
      "source": [
        "You will use the `get_gzipped_model_size()` helper function in the `Utilities` to compress the models and get its resulting file size. You will notice that the pruned model is about 3 times smaller. This is because of the sparse weights generated by the pruning process. The zeros can be compressed much more efficiently than the low magnitude weights before pruning."
      ]
    },
    {
      "cell_type": "code",
      "metadata": {
        "id": "VWQ_AgiX_yiP",
        "colab": {
          "base_uri": "https://localhost:8080/"
        },
        "outputId": "e4b0234b-403b-42de-a73b-c54529ea4518"
      },
      "source": [
        "# Get compressed size of baseline and pruned models\n",
        "MODEL_SIZE = {}\n",
        "MODEL_SIZE['baseline h5'] = get_gzipped_model_size(FILE_NON_QUANTIZED_H5)\n",
        "MODEL_SIZE['pruned non quantized h5'] = get_gzipped_model_size(FILE_PRUNED_MODEL_H5)\n",
        "\n",
        "print_metric(MODEL_SIZE, \"gzipped model size in bytes\")"
      ],
      "execution_count": 31,
      "outputs": [
        {
          "output_type": "stream",
          "name": "stdout",
          "text": [
            "gzipped model size in bytes for baseline h5: 78031\n",
            "gzipped model size in bytes for pruned non quantized h5: 25631\n"
          ]
        }
      ]
    },
    {
      "cell_type": "markdown",
      "metadata": {
        "id": "uByyx0L3mlYc"
      },
      "source": [
        "You can make the model even more lightweight by quantizing the pruned model. This achieves around 10X reduction in compressed model size as compared to the baseline."
      ]
    },
    {
      "cell_type": "code",
      "metadata": {
        "id": "qIY6n9XWCvt5",
        "colab": {
          "base_uri": "https://localhost:8080/"
        },
        "outputId": "56f62751-efe8-4a2f-f7de-29ec6c4036b7"
      },
      "source": [
        "# Convert and quantize the pruned model.\n",
        "pruned_quantized_tflite = convert_tflite(model_for_export, FILE_PRUNED_QUANTIZED_TFLITE, quantize=True)\n",
        "\n",
        "# Compress and get the model size\n",
        "MODEL_SIZE['pruned quantized tflite'] = get_gzipped_model_size(FILE_PRUNED_QUANTIZED_TFLITE)\n",
        "print_metric(MODEL_SIZE, \"gzipped model size in bytes\")"
      ],
      "execution_count": 32,
      "outputs": [
        {
          "output_type": "stream",
          "name": "stdout",
          "text": [
            "INFO:tensorflow:Assets written to: /tmp/tmpqsvo5o5y/assets\n"
          ]
        },
        {
          "output_type": "stream",
          "name": "stderr",
          "text": [
            "INFO:tensorflow:Assets written to: /tmp/tmpqsvo5o5y/assets\n",
            "WARNING:absl:Buffer deduplication procedure will be skipped when flatbuffer library is not properly loaded\n"
          ]
        },
        {
          "output_type": "stream",
          "name": "stdout",
          "text": [
            "gzipped model size in bytes for baseline h5: 78031\n",
            "gzipped model size in bytes for pruned non quantized h5: 25631\n",
            "gzipped model size in bytes for pruned quantized tflite: 8161\n"
          ]
        }
      ]
    },
    {
      "cell_type": "markdown",
      "metadata": {
        "id": "v4ytiH3ynIid"
      },
      "source": [
        "As expected, the TF Lite model's accuracy will also be close to the Keras model."
      ]
    },
    {
      "cell_type": "code",
      "metadata": {
        "id": "PZBAdJmuWN0A",
        "colab": {
          "base_uri": "https://localhost:8080/"
        },
        "outputId": "8562396b-2d11-4447-c643-f1d2d5e38378"
      },
      "source": [
        "# Get accuracy of pruned Keras and TF Lite models\n",
        "ACCURACY = {}\n",
        "\n",
        "_, ACCURACY['pruned model h5'] = model_for_pruning.evaluate(test_images, test_labels)\n",
        "ACCURACY['pruned and quantized tflite'] = evaluate_tflite_model(FILE_PRUNED_QUANTIZED_TFLITE, test_images, test_labels)\n",
        "\n",
        "print_metric(ACCURACY, 'accuracy')"
      ],
      "execution_count": 33,
      "outputs": [
        {
          "output_type": "stream",
          "name": "stdout",
          "text": [
            "313/313 [==============================] - 1s 3ms/step - loss: 0.1155 - accuracy: 0.9649\n",
            "accuracy for pruned model h5: 0.964900016784668\n",
            "accuracy for pruned and quantized tflite: 0.9648\n"
          ]
        }
      ]
    },
    {
      "cell_type": "markdown",
      "metadata": {
        "id": "CpM7t_nGokcz"
      },
      "source": [
        "## Wrap Up\n",
        "\n",
        "In this notebook, you practiced several techniques in optimizing your models for mobile and embedded applications. You used quantization to reduce floating point representations into integer, then used pruning to make the weights sparse for efficient model compression. These make your models lightweight for efficient transport and storage without sacrificing model accuracy. Try this in your own models and see what performance you get. For more information, here are a few other resources:\n",
        "\n",
        "* [Post Training Quantization Guide](https://www.tensorflow.org/lite/performance/post_training_quantization)\n",
        "* [Quantization Aware Training Comprehensive Guide](https://www.tensorflow.org/model_optimization/guide/quantization/training_comprehensive_guide)\n",
        "* [Pruning Comprehensive Guide](https://www.tensorflow.org/model_optimization/guide/pruning/comprehensive_guide)\n",
        "\n",
        "**Congratulations and enjoy the rest of the course!**"
      ]
    },
    {
      "cell_type": "code",
      "source": [
        ""
      ],
      "metadata": {
        "id": "d9APKeqPXSxm"
      },
      "execution_count": 33,
      "outputs": []
    }
  ]
}